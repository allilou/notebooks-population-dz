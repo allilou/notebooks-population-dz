{
 "cells": [
  {
   "cell_type": "markdown",
   "metadata": {},
   "source": [
    "# Logistic Regression tutorial"
   ]
  },
  {
   "cell_type": "code",
   "execution_count": 123,
   "metadata": {},
   "outputs": [],
   "source": [
    "import pandas as pd\n",
    "import numpy as np\n",
    "\n",
    "from sklearn.preprocessing import StandardScaler\n",
    "from sklearn.model_selection import train_test_split\n",
    "from sklearn.linear_model import LogisticRegression\n",
    "from sklearn import metrics\n",
    "import pickle"
   ]
  },
  {
   "cell_type": "markdown",
   "metadata": {},
   "source": [
    "## Read the data"
   ]
  },
  {
   "cell_type": "code",
   "execution_count": 4,
   "metadata": {},
   "outputs": [],
   "source": [
    "raw_data = pd.read_csv('population_par_wilaya.csv')"
   ]
  },
  {
   "cell_type": "code",
   "execution_count": 9,
   "metadata": {},
   "outputs": [
    {
     "data": {
      "text/html": [
       "<div>\n",
       "<style scoped>\n",
       "    .dataframe tbody tr th:only-of-type {\n",
       "        vertical-align: middle;\n",
       "    }\n",
       "\n",
       "    .dataframe tbody tr th {\n",
       "        vertical-align: top;\n",
       "    }\n",
       "\n",
       "    .dataframe thead th {\n",
       "        text-align: right;\n",
       "    }\n",
       "</style>\n",
       "<table border=\"1\" class=\"dataframe\">\n",
       "  <thead>\n",
       "    <tr style=\"text-align: right;\">\n",
       "      <th></th>\n",
       "      <th>wilaya_id</th>\n",
       "      <th>wilaya</th>\n",
       "      <th>pop_0_4_ans</th>\n",
       "      <th>pop_5_9_ans</th>\n",
       "      <th>pop_10_14_ans</th>\n",
       "      <th>pop_15_19_ans</th>\n",
       "      <th>pop_20_24_ans</th>\n",
       "      <th>pop_25_29_ans</th>\n",
       "      <th>pop_30_34_ans</th>\n",
       "      <th>pop_35_39_ans</th>\n",
       "      <th>...</th>\n",
       "      <th>geole_rou_geole</th>\n",
       "      <th>lose_brucel_lose</th>\n",
       "      <th>hepatite_virale_a</th>\n",
       "      <th>hepatite_virale_b</th>\n",
       "      <th>hepatite_virale_c</th>\n",
       "      <th>coque_luche</th>\n",
       "      <th>dysen_terie</th>\n",
       "      <th>typh-oide</th>\n",
       "      <th>leishmaniose_cutanee</th>\n",
       "      <th>menin_gite</th>\n",
       "    </tr>\n",
       "  </thead>\n",
       "  <tbody>\n",
       "    <tr>\n",
       "      <td>0</td>\n",
       "      <td>1</td>\n",
       "      <td>ADRAR</td>\n",
       "      <td>47853.94794</td>\n",
       "      <td>43604.17006</td>\n",
       "      <td>45558.73708</td>\n",
       "      <td>47761.00471</td>\n",
       "      <td>46997.36342</td>\n",
       "      <td>39739.12750</td>\n",
       "      <td>24704.37392</td>\n",
       "      <td>21745.78801</td>\n",
       "      <td>...</td>\n",
       "      <td>59</td>\n",
       "      <td>7</td>\n",
       "      <td>1</td>\n",
       "      <td>85</td>\n",
       "      <td>11</td>\n",
       "      <td>0</td>\n",
       "      <td>161</td>\n",
       "      <td>16</td>\n",
       "      <td>2</td>\n",
       "      <td>23</td>\n",
       "    </tr>\n",
       "    <tr>\n",
       "      <td>1</td>\n",
       "      <td>2</td>\n",
       "      <td>CHLEF</td>\n",
       "      <td>99479.06821</td>\n",
       "      <td>86435.77046</td>\n",
       "      <td>99844.36111</td>\n",
       "      <td>117865.23220</td>\n",
       "      <td>123945.72600</td>\n",
       "      <td>104558.96420</td>\n",
       "      <td>78304.80207</td>\n",
       "      <td>62422.72551</td>\n",
       "      <td>...</td>\n",
       "      <td>13</td>\n",
       "      <td>1</td>\n",
       "      <td>16</td>\n",
       "      <td>6</td>\n",
       "      <td>3</td>\n",
       "      <td>0</td>\n",
       "      <td>4</td>\n",
       "      <td>3</td>\n",
       "      <td>6</td>\n",
       "      <td>60</td>\n",
       "    </tr>\n",
       "    <tr>\n",
       "      <td>2</td>\n",
       "      <td>3</td>\n",
       "      <td>LAGHOUAT</td>\n",
       "      <td>54707.88632</td>\n",
       "      <td>49268.41397</td>\n",
       "      <td>49013.76574</td>\n",
       "      <td>50202.78644</td>\n",
       "      <td>47906.17408</td>\n",
       "      <td>43555.13561</td>\n",
       "      <td>33528.08208</td>\n",
       "      <td>29715.29456</td>\n",
       "      <td>...</td>\n",
       "      <td>3</td>\n",
       "      <td>185</td>\n",
       "      <td>0</td>\n",
       "      <td>0</td>\n",
       "      <td>0</td>\n",
       "      <td>0</td>\n",
       "      <td>7</td>\n",
       "      <td>55</td>\n",
       "      <td>292</td>\n",
       "      <td>7</td>\n",
       "    </tr>\n",
       "    <tr>\n",
       "      <td>3</td>\n",
       "      <td>4</td>\n",
       "      <td>OUM EL BOUAGHI</td>\n",
       "      <td>64170.61506</td>\n",
       "      <td>52110.80382</td>\n",
       "      <td>62099.34408</td>\n",
       "      <td>71744.37465</td>\n",
       "      <td>72270.28480</td>\n",
       "      <td>61742.72330</td>\n",
       "      <td>46627.44867</td>\n",
       "      <td>37405.42570</td>\n",
       "      <td>...</td>\n",
       "      <td>3</td>\n",
       "      <td>228</td>\n",
       "      <td>24</td>\n",
       "      <td>24</td>\n",
       "      <td>69</td>\n",
       "      <td>0</td>\n",
       "      <td>0</td>\n",
       "      <td>15</td>\n",
       "      <td>4</td>\n",
       "      <td>50</td>\n",
       "    </tr>\n",
       "    <tr>\n",
       "      <td>4</td>\n",
       "      <td>5</td>\n",
       "      <td>BATNA</td>\n",
       "      <td>113327.32220</td>\n",
       "      <td>98755.67713</td>\n",
       "      <td>115804.96540</td>\n",
       "      <td>132083.38180</td>\n",
       "      <td>129136.13590</td>\n",
       "      <td>107337.72570</td>\n",
       "      <td>84384.77341</td>\n",
       "      <td>68764.22777</td>\n",
       "      <td>...</td>\n",
       "      <td>31</td>\n",
       "      <td>63</td>\n",
       "      <td>38</td>\n",
       "      <td>40</td>\n",
       "      <td>45</td>\n",
       "      <td>2</td>\n",
       "      <td>0</td>\n",
       "      <td>4</td>\n",
       "      <td>1015</td>\n",
       "      <td>77</td>\n",
       "    </tr>\n",
       "  </tbody>\n",
       "</table>\n",
       "<p>5 rows × 61 columns</p>\n",
       "</div>"
      ],
      "text/plain": [
       "   wilaya_id          wilaya   pop_0_4_ans  pop_5_9_ans  pop_10_14_ans  \\\n",
       "0          1           ADRAR   47853.94794  43604.17006    45558.73708   \n",
       "1          2           CHLEF   99479.06821  86435.77046    99844.36111   \n",
       "2          3        LAGHOUAT   54707.88632  49268.41397    49013.76574   \n",
       "3          4  OUM EL BOUAGHI   64170.61506  52110.80382    62099.34408   \n",
       "4          5           BATNA  113327.32220  98755.67713   115804.96540   \n",
       "\n",
       "   pop_15_19_ans  pop_20_24_ans  pop_25_29_ans  pop_30_34_ans  pop_35_39_ans  \\\n",
       "0    47761.00471    46997.36342    39739.12750    24704.37392    21745.78801   \n",
       "1   117865.23220   123945.72600   104558.96420    78304.80207    62422.72551   \n",
       "2    50202.78644    47906.17408    43555.13561    33528.08208    29715.29456   \n",
       "3    71744.37465    72270.28480    61742.72330    46627.44867    37405.42570   \n",
       "4   132083.38180   129136.13590   107337.72570    84384.77341    68764.22777   \n",
       "\n",
       "   ...  geole_rou_geole  lose_brucel_lose  hepatite_virale_a  \\\n",
       "0  ...               59                 7                  1   \n",
       "1  ...               13                 1                 16   \n",
       "2  ...                3               185                  0   \n",
       "3  ...                3               228                 24   \n",
       "4  ...               31                63                 38   \n",
       "\n",
       "   hepatite_virale_b  hepatite_virale_c  coque_luche  dysen_terie  typh-oide  \\\n",
       "0                 85                 11            0          161         16   \n",
       "1                  6                  3            0            4          3   \n",
       "2                  0                  0            0            7         55   \n",
       "3                 24                 69            0            0         15   \n",
       "4                 40                 45            2            0          4   \n",
       "\n",
       "   leishmaniose_cutanee  menin_gite  \n",
       "0                     2          23  \n",
       "1                     6          60  \n",
       "2                   292           7  \n",
       "3                     4          50  \n",
       "4                  1015          77  \n",
       "\n",
       "[5 rows x 61 columns]"
      ]
     },
     "execution_count": 9,
     "metadata": {},
     "output_type": "execute_result"
    }
   ],
   "source": [
    "raw_data.head()"
   ]
  },
  {
   "cell_type": "code",
   "execution_count": 10,
   "metadata": {},
   "outputs": [
    {
     "data": {
      "text/html": [
       "<div>\n",
       "<style scoped>\n",
       "    .dataframe tbody tr th:only-of-type {\n",
       "        vertical-align: middle;\n",
       "    }\n",
       "\n",
       "    .dataframe tbody tr th {\n",
       "        vertical-align: top;\n",
       "    }\n",
       "\n",
       "    .dataframe thead th {\n",
       "        text-align: right;\n",
       "    }\n",
       "</style>\n",
       "<table border=\"1\" class=\"dataframe\">\n",
       "  <thead>\n",
       "    <tr style=\"text-align: right;\">\n",
       "      <th></th>\n",
       "      <th>wilaya_id</th>\n",
       "      <th>pop_0_4_ans</th>\n",
       "      <th>pop_5_9_ans</th>\n",
       "      <th>pop_10_14_ans</th>\n",
       "      <th>pop_15_19_ans</th>\n",
       "      <th>pop_20_24_ans</th>\n",
       "      <th>pop_25_29_ans</th>\n",
       "      <th>pop_30_34_ans</th>\n",
       "      <th>pop_35_39_ans</th>\n",
       "      <th>pop_40_44_ans</th>\n",
       "      <th>...</th>\n",
       "      <th>geole_rou_geole</th>\n",
       "      <th>lose_brucel_lose</th>\n",
       "      <th>hepatite_virale_a</th>\n",
       "      <th>hepatite_virale_b</th>\n",
       "      <th>hepatite_virale_c</th>\n",
       "      <th>coque_luche</th>\n",
       "      <th>dysen_terie</th>\n",
       "      <th>typh-oide</th>\n",
       "      <th>leishmaniose_cutanee</th>\n",
       "      <th>menin_gite</th>\n",
       "    </tr>\n",
       "  </thead>\n",
       "  <tbody>\n",
       "    <tr>\n",
       "      <td>count</td>\n",
       "      <td>49.000000</td>\n",
       "      <td>4.900000e+01</td>\n",
       "      <td>4.900000e+01</td>\n",
       "      <td>4.900000e+01</td>\n",
       "      <td>4.900000e+01</td>\n",
       "      <td>4.900000e+01</td>\n",
       "      <td>4.900000e+01</td>\n",
       "      <td>4.900000e+01</td>\n",
       "      <td>4.900000e+01</td>\n",
       "      <td>4.900000e+01</td>\n",
       "      <td>...</td>\n",
       "      <td>49.000000</td>\n",
       "      <td>49.000000</td>\n",
       "      <td>49.000000</td>\n",
       "      <td>49.000000</td>\n",
       "      <td>49.000000</td>\n",
       "      <td>49.000000</td>\n",
       "      <td>49.000000</td>\n",
       "      <td>49.000000</td>\n",
       "      <td>49.000000</td>\n",
       "      <td>49.000000</td>\n",
       "    </tr>\n",
       "    <tr>\n",
       "      <td>mean</td>\n",
       "      <td>28.346939</td>\n",
       "      <td>1.389564e+05</td>\n",
       "      <td>1.178748e+05</td>\n",
       "      <td>1.329929e+05</td>\n",
       "      <td>1.483549e+05</td>\n",
       "      <td>1.535921e+05</td>\n",
       "      <td>1.396699e+05</td>\n",
       "      <td>1.118612e+05</td>\n",
       "      <td>9.560764e+04</td>\n",
       "      <td>8.236852e+04</td>\n",
       "      <td>...</td>\n",
       "      <td>63.142857</td>\n",
       "      <td>206.367347</td>\n",
       "      <td>32.571429</td>\n",
       "      <td>73.551020</td>\n",
       "      <td>38.408163</td>\n",
       "      <td>3.183673</td>\n",
       "      <td>46.204082</td>\n",
       "      <td>32.897959</td>\n",
       "      <td>311.510204</td>\n",
       "      <td>156.734694</td>\n",
       "    </tr>\n",
       "    <tr>\n",
       "      <td>std</td>\n",
       "      <td>30.283075</td>\n",
       "      <td>4.783429e+05</td>\n",
       "      <td>4.056089e+05</td>\n",
       "      <td>4.575232e+05</td>\n",
       "      <td>5.103526e+05</td>\n",
       "      <td>5.284522e+05</td>\n",
       "      <td>4.807686e+05</td>\n",
       "      <td>3.854301e+05</td>\n",
       "      <td>3.297478e+05</td>\n",
       "      <td>2.842045e+05</td>\n",
       "      <td>...</td>\n",
       "      <td>223.029239</td>\n",
       "      <td>741.279656</td>\n",
       "      <td>113.197099</td>\n",
       "      <td>255.520063</td>\n",
       "      <td>137.789229</td>\n",
       "      <td>12.296127</td>\n",
       "      <td>162.970726</td>\n",
       "      <td>116.816495</td>\n",
       "      <td>1139.838149</td>\n",
       "      <td>549.657726</td>\n",
       "    </tr>\n",
       "    <tr>\n",
       "      <td>min</td>\n",
       "      <td>1.000000</td>\n",
       "      <td>6.165500e+03</td>\n",
       "      <td>5.094317e+03</td>\n",
       "      <td>5.085549e+03</td>\n",
       "      <td>5.107578e+03</td>\n",
       "      <td>5.060771e+03</td>\n",
       "      <td>4.960220e+03</td>\n",
       "      <td>3.923482e+03</td>\n",
       "      <td>3.312367e+03</td>\n",
       "      <td>2.722098e+03</td>\n",
       "      <td>...</td>\n",
       "      <td>0.000000</td>\n",
       "      <td>0.000000</td>\n",
       "      <td>0.000000</td>\n",
       "      <td>0.000000</td>\n",
       "      <td>0.000000</td>\n",
       "      <td>0.000000</td>\n",
       "      <td>0.000000</td>\n",
       "      <td>0.000000</td>\n",
       "      <td>0.000000</td>\n",
       "      <td>2.000000</td>\n",
       "    </tr>\n",
       "    <tr>\n",
       "      <td>25%</td>\n",
       "      <td>13.000000</td>\n",
       "      <td>4.232342e+04</td>\n",
       "      <td>3.646467e+04</td>\n",
       "      <td>4.053335e+04</td>\n",
       "      <td>4.429360e+04</td>\n",
       "      <td>4.699736e+04</td>\n",
       "      <td>4.355514e+04</td>\n",
       "      <td>3.352808e+04</td>\n",
       "      <td>2.971529e+04</td>\n",
       "      <td>2.606996e+04</td>\n",
       "      <td>...</td>\n",
       "      <td>3.000000</td>\n",
       "      <td>3.000000</td>\n",
       "      <td>3.000000</td>\n",
       "      <td>12.000000</td>\n",
       "      <td>3.000000</td>\n",
       "      <td>0.000000</td>\n",
       "      <td>0.000000</td>\n",
       "      <td>3.000000</td>\n",
       "      <td>3.000000</td>\n",
       "      <td>22.000000</td>\n",
       "    </tr>\n",
       "    <tr>\n",
       "      <td>50%</td>\n",
       "      <td>25.000000</td>\n",
       "      <td>6.637570e+04</td>\n",
       "      <td>5.993406e+04</td>\n",
       "      <td>6.809855e+04</td>\n",
       "      <td>7.658358e+04</td>\n",
       "      <td>7.748412e+04</td>\n",
       "      <td>6.496500e+04</td>\n",
       "      <td>5.308496e+04</td>\n",
       "      <td>4.561713e+04</td>\n",
       "      <td>3.937745e+04</td>\n",
       "      <td>...</td>\n",
       "      <td>13.000000</td>\n",
       "      <td>17.000000</td>\n",
       "      <td>11.000000</td>\n",
       "      <td>27.000000</td>\n",
       "      <td>8.000000</td>\n",
       "      <td>0.000000</td>\n",
       "      <td>2.000000</td>\n",
       "      <td>6.000000</td>\n",
       "      <td>12.000000</td>\n",
       "      <td>63.000000</td>\n",
       "    </tr>\n",
       "    <tr>\n",
       "      <td>75%</td>\n",
       "      <td>37.000000</td>\n",
       "      <td>8.579150e+04</td>\n",
       "      <td>7.297303e+04</td>\n",
       "      <td>8.392290e+04</td>\n",
       "      <td>9.646350e+04</td>\n",
       "      <td>9.953428e+04</td>\n",
       "      <td>9.154196e+04</td>\n",
       "      <td>7.416484e+04</td>\n",
       "      <td>6.230553e+04</td>\n",
       "      <td>4.849781e+04</td>\n",
       "      <td>...</td>\n",
       "      <td>31.000000</td>\n",
       "      <td>112.000000</td>\n",
       "      <td>24.000000</td>\n",
       "      <td>46.000000</td>\n",
       "      <td>15.000000</td>\n",
       "      <td>0.000000</td>\n",
       "      <td>51.000000</td>\n",
       "      <td>15.000000</td>\n",
       "      <td>92.000000</td>\n",
       "      <td>92.000000</td>\n",
       "    </tr>\n",
       "    <tr>\n",
       "      <td>max</td>\n",
       "      <td>213.000000</td>\n",
       "      <td>3.404431e+06</td>\n",
       "      <td>2.887934e+06</td>\n",
       "      <td>3.258327e+06</td>\n",
       "      <td>3.634694e+06</td>\n",
       "      <td>3.763007e+06</td>\n",
       "      <td>3.421914e+06</td>\n",
       "      <td>2.740600e+06</td>\n",
       "      <td>2.342387e+06</td>\n",
       "      <td>2.018029e+06</td>\n",
       "      <td>...</td>\n",
       "      <td>1547.000000</td>\n",
       "      <td>5056.000000</td>\n",
       "      <td>798.000000</td>\n",
       "      <td>1802.000000</td>\n",
       "      <td>941.000000</td>\n",
       "      <td>78.000000</td>\n",
       "      <td>1132.000000</td>\n",
       "      <td>806.000000</td>\n",
       "      <td>7632.000000</td>\n",
       "      <td>3840.000000</td>\n",
       "    </tr>\n",
       "  </tbody>\n",
       "</table>\n",
       "<p>8 rows × 60 columns</p>\n",
       "</div>"
      ],
      "text/plain": [
       "        wilaya_id   pop_0_4_ans   pop_5_9_ans  pop_10_14_ans  pop_15_19_ans  \\\n",
       "count   49.000000  4.900000e+01  4.900000e+01   4.900000e+01   4.900000e+01   \n",
       "mean    28.346939  1.389564e+05  1.178748e+05   1.329929e+05   1.483549e+05   \n",
       "std     30.283075  4.783429e+05  4.056089e+05   4.575232e+05   5.103526e+05   \n",
       "min      1.000000  6.165500e+03  5.094317e+03   5.085549e+03   5.107578e+03   \n",
       "25%     13.000000  4.232342e+04  3.646467e+04   4.053335e+04   4.429360e+04   \n",
       "50%     25.000000  6.637570e+04  5.993406e+04   6.809855e+04   7.658358e+04   \n",
       "75%     37.000000  8.579150e+04  7.297303e+04   8.392290e+04   9.646350e+04   \n",
       "max    213.000000  3.404431e+06  2.887934e+06   3.258327e+06   3.634694e+06   \n",
       "\n",
       "       pop_20_24_ans  pop_25_29_ans  pop_30_34_ans  pop_35_39_ans  \\\n",
       "count   4.900000e+01   4.900000e+01   4.900000e+01   4.900000e+01   \n",
       "mean    1.535921e+05   1.396699e+05   1.118612e+05   9.560764e+04   \n",
       "std     5.284522e+05   4.807686e+05   3.854301e+05   3.297478e+05   \n",
       "min     5.060771e+03   4.960220e+03   3.923482e+03   3.312367e+03   \n",
       "25%     4.699736e+04   4.355514e+04   3.352808e+04   2.971529e+04   \n",
       "50%     7.748412e+04   6.496500e+04   5.308496e+04   4.561713e+04   \n",
       "75%     9.953428e+04   9.154196e+04   7.416484e+04   6.230553e+04   \n",
       "max     3.763007e+06   3.421914e+06   2.740600e+06   2.342387e+06   \n",
       "\n",
       "       pop_40_44_ans  ...  geole_rou_geole  lose_brucel_lose  \\\n",
       "count   4.900000e+01  ...        49.000000         49.000000   \n",
       "mean    8.236852e+04  ...        63.142857        206.367347   \n",
       "std     2.842045e+05  ...       223.029239        741.279656   \n",
       "min     2.722098e+03  ...         0.000000          0.000000   \n",
       "25%     2.606996e+04  ...         3.000000          3.000000   \n",
       "50%     3.937745e+04  ...        13.000000         17.000000   \n",
       "75%     4.849781e+04  ...        31.000000        112.000000   \n",
       "max     2.018029e+06  ...      1547.000000       5056.000000   \n",
       "\n",
       "       hepatite_virale_a  hepatite_virale_b  hepatite_virale_c  coque_luche  \\\n",
       "count          49.000000          49.000000          49.000000    49.000000   \n",
       "mean           32.571429          73.551020          38.408163     3.183673   \n",
       "std           113.197099         255.520063         137.789229    12.296127   \n",
       "min             0.000000           0.000000           0.000000     0.000000   \n",
       "25%             3.000000          12.000000           3.000000     0.000000   \n",
       "50%            11.000000          27.000000           8.000000     0.000000   \n",
       "75%            24.000000          46.000000          15.000000     0.000000   \n",
       "max           798.000000        1802.000000         941.000000    78.000000   \n",
       "\n",
       "       dysen_terie   typh-oide  leishmaniose_cutanee   menin_gite  \n",
       "count    49.000000   49.000000             49.000000    49.000000  \n",
       "mean     46.204082   32.897959            311.510204   156.734694  \n",
       "std     162.970726  116.816495           1139.838149   549.657726  \n",
       "min       0.000000    0.000000              0.000000     2.000000  \n",
       "25%       0.000000    3.000000              3.000000    22.000000  \n",
       "50%       2.000000    6.000000             12.000000    63.000000  \n",
       "75%      51.000000   15.000000             92.000000    92.000000  \n",
       "max    1132.000000  806.000000           7632.000000  3840.000000  \n",
       "\n",
       "[8 rows x 60 columns]"
      ]
     },
     "execution_count": 10,
     "metadata": {},
     "output_type": "execute_result"
    }
   ],
   "source": [
    "raw_data.describe()"
   ]
  },
  {
   "cell_type": "code",
   "execution_count": 12,
   "metadata": {},
   "outputs": [
    {
     "data": {
      "text/plain": [
       "array(['wilaya_id', 'wilaya', 'pop_0_4_ans', 'pop_5_9_ans',\n",
       "       'pop_10_14_ans', 'pop_15_19_ans', 'pop_20_24_ans', 'pop_25_29_ans',\n",
       "       'pop_30_34_ans', 'pop_35_39_ans', 'pop_40_44_ans', 'pop_45_49_ans',\n",
       "       'pop_50_54_ans', 'pop_55_59_ans', 'pop_60_64_ans', 'pop_65_69_ans',\n",
       "       'pop_70_74_ans', 'pop_75_79_ans', 'pop_80_84_ans',\n",
       "       'pop_sup_84_ans', 'pop_nd', 'masculin', 'feminin', 'rural_2008',\n",
       "       'urbain_2008', 'acl', 'as', 'epars', 'habitant_par_km2_1998',\n",
       "       'pop_total', 'taux_accroissement_urbain',\n",
       "       'taux_accroissement_rural', 'taux_accroissement_total', 'retraite',\n",
       "       'pensionne', 'specialite_homme', 'specialite_femme',\n",
       "       'generaliste_homme', 'generaliste_femme', 'chir_dentiste_homme',\n",
       "       'chir_dentiste_femme', 'pharmacien_homme', 'pharmacien_femme',\n",
       "       'structure_hospitalisation', 'salle_consultation_et_soins',\n",
       "       'centre_sante', 'polyclinique', 'lits_techniques_2006',\n",
       "       'lits_organises_2006', 'tracho_me', 'kyste_hydatique',\n",
       "       'geole_rou_geole', 'lose_brucel_lose', 'hepatite_virale_a',\n",
       "       'hepatite_virale_b', 'hepatite_virale_c', 'coque_luche',\n",
       "       'dysen_terie', 'typh-oide', 'leishmaniose_cutanee', 'menin_gite'],\n",
       "      dtype=object)"
      ]
     },
     "execution_count": 12,
     "metadata": {},
     "output_type": "execute_result"
    }
   ],
   "source": [
    "raw_data.columns.values"
   ]
  },
  {
   "cell_type": "code",
   "execution_count": 14,
   "metadata": {},
   "outputs": [],
   "source": [
    "df = raw_data.copy()"
   ]
  },
  {
   "cell_type": "code",
   "execution_count": 16,
   "metadata": {},
   "outputs": [],
   "source": [
    "df = df.drop(['wilaya_id', 'wilaya', 'pop_0_4_ans', 'pop_5_9_ans',\n",
    "       'pop_10_14_ans', 'pop_15_19_ans', 'pop_20_24_ans', 'pop_25_29_ans',\n",
    "       'pop_30_34_ans', 'pop_35_39_ans', 'pop_40_44_ans', 'pop_45_49_ans',\n",
    "       'pop_50_54_ans', 'pop_55_59_ans', 'pop_60_64_ans', 'pop_65_69_ans',\n",
    "       'pop_70_74_ans', 'pop_75_79_ans', 'pop_80_84_ans',\n",
    "       'pop_sup_84_ans', 'pop_nd', 'acl', 'as', 'epars', 'habitant_par_km2_1998',\n",
    "        'taux_accroissement_urbain',\n",
    "       'taux_accroissement_rural', 'taux_accroissement_total', 'retraite',\n",
    "       'pensionne', 'specialite_homme', 'specialite_femme',\n",
    "       'generaliste_homme', 'generaliste_femme', 'chir_dentiste_homme',\n",
    "       'chir_dentiste_femme', 'pharmacien_homme', 'pharmacien_femme',\n",
    "       'structure_hospitalisation', 'salle_consultation_et_soins',\n",
    "       'centre_sante', 'polyclinique', 'lits_techniques_2006',\n",
    "       'lits_organises_2006', 'tracho_me', 'kyste_hydatique',\n",
    "       'geole_rou_geole', 'lose_brucel_lose', 'hepatite_virale_a',\n",
    "       'hepatite_virale_b', 'hepatite_virale_c', 'coque_luche',\n",
    "       'dysen_terie', 'typh-oide', 'leishmaniose_cutanee'], axis = 1)"
   ]
  },
  {
   "cell_type": "code",
   "execution_count": 19,
   "metadata": {},
   "outputs": [
    {
     "data": {
      "text/html": [
       "<div>\n",
       "<style scoped>\n",
       "    .dataframe tbody tr th:only-of-type {\n",
       "        vertical-align: middle;\n",
       "    }\n",
       "\n",
       "    .dataframe tbody tr th {\n",
       "        vertical-align: top;\n",
       "    }\n",
       "\n",
       "    .dataframe thead th {\n",
       "        text-align: right;\n",
       "    }\n",
       "</style>\n",
       "<table border=\"1\" class=\"dataframe\">\n",
       "  <thead>\n",
       "    <tr style=\"text-align: right;\">\n",
       "      <th></th>\n",
       "      <th>masculin</th>\n",
       "      <th>feminin</th>\n",
       "      <th>rural_2008</th>\n",
       "      <th>urbain_2008</th>\n",
       "      <th>pop_total</th>\n",
       "      <th>menin_gite</th>\n",
       "    </tr>\n",
       "  </thead>\n",
       "  <tbody>\n",
       "    <tr>\n",
       "      <td>0</td>\n",
       "      <td>203836.3422</td>\n",
       "      <td>195877.5045</td>\n",
       "      <td>253856</td>\n",
       "      <td>145858</td>\n",
       "      <td>3.997138e+05</td>\n",
       "      <td>23</td>\n",
       "    </tr>\n",
       "    <tr>\n",
       "      <td>1</td>\n",
       "      <td>502469.9090</td>\n",
       "      <td>499617.9663</td>\n",
       "      <td>503567</td>\n",
       "      <td>498521</td>\n",
       "      <td>1.002088e+06</td>\n",
       "      <td>60</td>\n",
       "    </tr>\n",
       "    <tr>\n",
       "      <td>2</td>\n",
       "      <td>232657.6061</td>\n",
       "      <td>223209.9158</td>\n",
       "      <td>141353</td>\n",
       "      <td>314248</td>\n",
       "      <td>4.558675e+05</td>\n",
       "      <td>7</td>\n",
       "    </tr>\n",
       "    <tr>\n",
       "      <td>3</td>\n",
       "      <td>314084.2888</td>\n",
       "      <td>307527.2184</td>\n",
       "      <td>166892</td>\n",
       "      <td>454720</td>\n",
       "      <td>6.216115e+05</td>\n",
       "      <td>50</td>\n",
       "    </tr>\n",
       "    <tr>\n",
       "      <td>4</td>\n",
       "      <td>565240.5826</td>\n",
       "      <td>554389.5847</td>\n",
       "      <td>434792</td>\n",
       "      <td>684999</td>\n",
       "      <td>1.119630e+06</td>\n",
       "      <td>77</td>\n",
       "    </tr>\n",
       "  </tbody>\n",
       "</table>\n",
       "</div>"
      ],
      "text/plain": [
       "      masculin      feminin  rural_2008  urbain_2008     pop_total  menin_gite\n",
       "0  203836.3422  195877.5045      253856       145858  3.997138e+05          23\n",
       "1  502469.9090  499617.9663      503567       498521  1.002088e+06          60\n",
       "2  232657.6061  223209.9158      141353       314248  4.558675e+05           7\n",
       "3  314084.2888  307527.2184      166892       454720  6.216115e+05          50\n",
       "4  565240.5826  554389.5847      434792       684999  1.119630e+06          77"
      ]
     },
     "execution_count": 19,
     "metadata": {},
     "output_type": "execute_result"
    }
   ],
   "source": [
    "df.head()"
   ]
  },
  {
   "cell_type": "markdown",
   "metadata": {},
   "source": [
    "## Simplification de la colonne à inférer"
   ]
  },
  {
   "cell_type": "code",
   "execution_count": 60,
   "metadata": {},
   "outputs": [
    {
     "data": {
      "text/html": [
       "<div>\n",
       "<style scoped>\n",
       "    .dataframe tbody tr th:only-of-type {\n",
       "        vertical-align: middle;\n",
       "    }\n",
       "\n",
       "    .dataframe tbody tr th {\n",
       "        vertical-align: top;\n",
       "    }\n",
       "\n",
       "    .dataframe thead th {\n",
       "        text-align: right;\n",
       "    }\n",
       "</style>\n",
       "<table border=\"1\" class=\"dataframe\">\n",
       "  <thead>\n",
       "    <tr style=\"text-align: right;\">\n",
       "      <th></th>\n",
       "      <th>masculin</th>\n",
       "      <th>feminin</th>\n",
       "      <th>rural_2008</th>\n",
       "      <th>urbain_2008</th>\n",
       "      <th>pop_total</th>\n",
       "      <th>menin_gite</th>\n",
       "      <th>targets</th>\n",
       "    </tr>\n",
       "  </thead>\n",
       "  <tbody>\n",
       "    <tr>\n",
       "      <td>count</td>\n",
       "      <td>4.900000e+01</td>\n",
       "      <td>4.900000e+01</td>\n",
       "      <td>4.900000e+01</td>\n",
       "      <td>4.900000e+01</td>\n",
       "      <td>4.900000e+01</td>\n",
       "      <td>49.000000</td>\n",
       "      <td>49.000000</td>\n",
       "    </tr>\n",
       "    <tr>\n",
       "      <td>mean</td>\n",
       "      <td>7.032707e+05</td>\n",
       "      <td>6.875420e+05</td>\n",
       "      <td>4.738307e+05</td>\n",
       "      <td>9.171910e+05</td>\n",
       "      <td>1.390813e+06</td>\n",
       "      <td>156.734694</td>\n",
       "      <td>0.510204</td>\n",
       "    </tr>\n",
       "    <tr>\n",
       "      <td>std</td>\n",
       "      <td>2.421392e+06</td>\n",
       "      <td>2.367471e+06</td>\n",
       "      <td>1.631453e+06</td>\n",
       "      <td>3.170362e+06</td>\n",
       "      <td>4.788858e+06</td>\n",
       "      <td>549.657726</td>\n",
       "      <td>0.505076</td>\n",
       "    </tr>\n",
       "    <tr>\n",
       "      <td>min</td>\n",
       "      <td>2.499619e+04</td>\n",
       "      <td>2.408814e+04</td>\n",
       "      <td>3.539000e+03</td>\n",
       "      <td>2.893400e+04</td>\n",
       "      <td>4.914914e+04</td>\n",
       "      <td>2.000000</td>\n",
       "      <td>0.000000</td>\n",
       "    </tr>\n",
       "    <tr>\n",
       "      <td>25%</td>\n",
       "      <td>2.039484e+05</td>\n",
       "      <td>2.045082e+05</td>\n",
       "      <td>1.225160e+05</td>\n",
       "      <td>2.632440e+05</td>\n",
       "      <td>4.084567e+05</td>\n",
       "      <td>22.000000</td>\n",
       "      <td>0.000000</td>\n",
       "    </tr>\n",
       "    <tr>\n",
       "      <td>50%</td>\n",
       "      <td>3.296031e+05</td>\n",
       "      <td>3.226173e+05</td>\n",
       "      <td>2.312310e+05</td>\n",
       "      <td>4.216280e+05</td>\n",
       "      <td>6.487033e+05</td>\n",
       "      <td>63.000000</td>\n",
       "      <td>1.000000</td>\n",
       "    </tr>\n",
       "    <tr>\n",
       "      <td>75%</td>\n",
       "      <td>4.656118e+05</td>\n",
       "      <td>4.469652e+05</td>\n",
       "      <td>3.637890e+05</td>\n",
       "      <td>5.124110e+05</td>\n",
       "      <td>9.125770e+05</td>\n",
       "      <td>92.000000</td>\n",
       "      <td>1.000000</td>\n",
       "    </tr>\n",
       "    <tr>\n",
       "      <td>max</td>\n",
       "      <td>1.723013e+07</td>\n",
       "      <td>1.684478e+07</td>\n",
       "      <td>1.160885e+07</td>\n",
       "      <td>2.247118e+07</td>\n",
       "      <td>3.407491e+07</td>\n",
       "      <td>3840.000000</td>\n",
       "      <td>1.000000</td>\n",
       "    </tr>\n",
       "  </tbody>\n",
       "</table>\n",
       "</div>"
      ],
      "text/plain": [
       "           masculin       feminin    rural_2008   urbain_2008     pop_total  \\\n",
       "count  4.900000e+01  4.900000e+01  4.900000e+01  4.900000e+01  4.900000e+01   \n",
       "mean   7.032707e+05  6.875420e+05  4.738307e+05  9.171910e+05  1.390813e+06   \n",
       "std    2.421392e+06  2.367471e+06  1.631453e+06  3.170362e+06  4.788858e+06   \n",
       "min    2.499619e+04  2.408814e+04  3.539000e+03  2.893400e+04  4.914914e+04   \n",
       "25%    2.039484e+05  2.045082e+05  1.225160e+05  2.632440e+05  4.084567e+05   \n",
       "50%    3.296031e+05  3.226173e+05  2.312310e+05  4.216280e+05  6.487033e+05   \n",
       "75%    4.656118e+05  4.469652e+05  3.637890e+05  5.124110e+05  9.125770e+05   \n",
       "max    1.723013e+07  1.684478e+07  1.160885e+07  2.247118e+07  3.407491e+07   \n",
       "\n",
       "        menin_gite    targets  \n",
       "count    49.000000  49.000000  \n",
       "mean    156.734694   0.510204  \n",
       "std     549.657726   0.505076  \n",
       "min       2.000000   0.000000  \n",
       "25%      22.000000   0.000000  \n",
       "50%      63.000000   1.000000  \n",
       "75%      92.000000   1.000000  \n",
       "max    3840.000000   1.000000  "
      ]
     },
     "execution_count": 60,
     "metadata": {},
     "output_type": "execute_result"
    }
   ],
   "source": [
    "df.describe()"
   ]
  },
  {
   "cell_type": "code",
   "execution_count": 32,
   "metadata": {},
   "outputs": [
    {
     "data": {
      "text/plain": [
       "array([1, 1, 1, 1, 0, 0, 0, 1, 0, 0, 1, 0, 0, 1, 0, 0, 1, 0, 0, 1, 0, 0,\n",
       "       1, 1, 0, 0, 1, 1, 0, 1, 0, 1, 1, 0, 0, 1, 1, 1, 1, 0, 0, 0, 0, 1,\n",
       "       1, 1, 1, 1, 0])"
      ]
     },
     "execution_count": 32,
     "metadata": {},
     "output_type": "execute_result"
    }
   ],
   "source": [
    "# Choix de la médiane (quantile 0.5) pour balancer les données \n",
    "targets = np.where(df['menin_gite'] > df['menin_gite'].quantile(0.5), 0 , 1)\n",
    "targets"
   ]
  },
  {
   "cell_type": "code",
   "execution_count": 38,
   "metadata": {},
   "outputs": [
    {
     "data": {
      "text/plain": [
       "0.5102040816326531"
      ]
     },
     "execution_count": 38,
     "metadata": {},
     "output_type": "execute_result"
    }
   ],
   "source": [
    "# Vérification du balancing\n",
    "targets.sum() / len(targets)"
   ]
  },
  {
   "cell_type": "code",
   "execution_count": 40,
   "metadata": {},
   "outputs": [],
   "source": [
    "# Ajout des targets au DF\n",
    "df['targets'] = targets"
   ]
  },
  {
   "cell_type": "code",
   "execution_count": 42,
   "metadata": {},
   "outputs": [
    {
     "data": {
      "text/html": [
       "<div>\n",
       "<style scoped>\n",
       "    .dataframe tbody tr th:only-of-type {\n",
       "        vertical-align: middle;\n",
       "    }\n",
       "\n",
       "    .dataframe tbody tr th {\n",
       "        vertical-align: top;\n",
       "    }\n",
       "\n",
       "    .dataframe thead th {\n",
       "        text-align: right;\n",
       "    }\n",
       "</style>\n",
       "<table border=\"1\" class=\"dataframe\">\n",
       "  <thead>\n",
       "    <tr style=\"text-align: right;\">\n",
       "      <th></th>\n",
       "      <th>masculin</th>\n",
       "      <th>feminin</th>\n",
       "      <th>rural_2008</th>\n",
       "      <th>urbain_2008</th>\n",
       "      <th>pop_total</th>\n",
       "      <th>menin_gite</th>\n",
       "      <th>targets</th>\n",
       "    </tr>\n",
       "  </thead>\n",
       "  <tbody>\n",
       "    <tr>\n",
       "      <td>0</td>\n",
       "      <td>203836.3422</td>\n",
       "      <td>195877.5045</td>\n",
       "      <td>253856</td>\n",
       "      <td>145858</td>\n",
       "      <td>3.997138e+05</td>\n",
       "      <td>23</td>\n",
       "      <td>1</td>\n",
       "    </tr>\n",
       "    <tr>\n",
       "      <td>1</td>\n",
       "      <td>502469.9090</td>\n",
       "      <td>499617.9663</td>\n",
       "      <td>503567</td>\n",
       "      <td>498521</td>\n",
       "      <td>1.002088e+06</td>\n",
       "      <td>60</td>\n",
       "      <td>1</td>\n",
       "    </tr>\n",
       "    <tr>\n",
       "      <td>2</td>\n",
       "      <td>232657.6061</td>\n",
       "      <td>223209.9158</td>\n",
       "      <td>141353</td>\n",
       "      <td>314248</td>\n",
       "      <td>4.558675e+05</td>\n",
       "      <td>7</td>\n",
       "      <td>1</td>\n",
       "    </tr>\n",
       "    <tr>\n",
       "      <td>3</td>\n",
       "      <td>314084.2888</td>\n",
       "      <td>307527.2184</td>\n",
       "      <td>166892</td>\n",
       "      <td>454720</td>\n",
       "      <td>6.216115e+05</td>\n",
       "      <td>50</td>\n",
       "      <td>1</td>\n",
       "    </tr>\n",
       "    <tr>\n",
       "      <td>4</td>\n",
       "      <td>565240.5826</td>\n",
       "      <td>554389.5847</td>\n",
       "      <td>434792</td>\n",
       "      <td>684999</td>\n",
       "      <td>1.119630e+06</td>\n",
       "      <td>77</td>\n",
       "      <td>0</td>\n",
       "    </tr>\n",
       "  </tbody>\n",
       "</table>\n",
       "</div>"
      ],
      "text/plain": [
       "      masculin      feminin  rural_2008  urbain_2008     pop_total  \\\n",
       "0  203836.3422  195877.5045      253856       145858  3.997138e+05   \n",
       "1  502469.9090  499617.9663      503567       498521  1.002088e+06   \n",
       "2  232657.6061  223209.9158      141353       314248  4.558675e+05   \n",
       "3  314084.2888  307527.2184      166892       454720  6.216115e+05   \n",
       "4  565240.5826  554389.5847      434792       684999  1.119630e+06   \n",
       "\n",
       "   menin_gite  targets  \n",
       "0          23        1  \n",
       "1          60        1  \n",
       "2           7        1  \n",
       "3          50        1  \n",
       "4          77        0  "
      ]
     },
     "execution_count": 42,
     "metadata": {},
     "output_type": "execute_result"
    }
   ],
   "source": [
    "df.head()"
   ]
  },
  {
   "cell_type": "code",
   "execution_count": 44,
   "metadata": {},
   "outputs": [],
   "source": [
    "df_with_targets = df.drop(['menin_gite'], axis = 1) "
   ]
  },
  {
   "cell_type": "code",
   "execution_count": 45,
   "metadata": {},
   "outputs": [
    {
     "data": {
      "text/html": [
       "<div>\n",
       "<style scoped>\n",
       "    .dataframe tbody tr th:only-of-type {\n",
       "        vertical-align: middle;\n",
       "    }\n",
       "\n",
       "    .dataframe tbody tr th {\n",
       "        vertical-align: top;\n",
       "    }\n",
       "\n",
       "    .dataframe thead th {\n",
       "        text-align: right;\n",
       "    }\n",
       "</style>\n",
       "<table border=\"1\" class=\"dataframe\">\n",
       "  <thead>\n",
       "    <tr style=\"text-align: right;\">\n",
       "      <th></th>\n",
       "      <th>masculin</th>\n",
       "      <th>feminin</th>\n",
       "      <th>rural_2008</th>\n",
       "      <th>urbain_2008</th>\n",
       "      <th>pop_total</th>\n",
       "      <th>targets</th>\n",
       "    </tr>\n",
       "  </thead>\n",
       "  <tbody>\n",
       "    <tr>\n",
       "      <td>0</td>\n",
       "      <td>203836.3422</td>\n",
       "      <td>195877.5045</td>\n",
       "      <td>253856</td>\n",
       "      <td>145858</td>\n",
       "      <td>3.997138e+05</td>\n",
       "      <td>1</td>\n",
       "    </tr>\n",
       "    <tr>\n",
       "      <td>1</td>\n",
       "      <td>502469.9090</td>\n",
       "      <td>499617.9663</td>\n",
       "      <td>503567</td>\n",
       "      <td>498521</td>\n",
       "      <td>1.002088e+06</td>\n",
       "      <td>1</td>\n",
       "    </tr>\n",
       "    <tr>\n",
       "      <td>2</td>\n",
       "      <td>232657.6061</td>\n",
       "      <td>223209.9158</td>\n",
       "      <td>141353</td>\n",
       "      <td>314248</td>\n",
       "      <td>4.558675e+05</td>\n",
       "      <td>1</td>\n",
       "    </tr>\n",
       "    <tr>\n",
       "      <td>3</td>\n",
       "      <td>314084.2888</td>\n",
       "      <td>307527.2184</td>\n",
       "      <td>166892</td>\n",
       "      <td>454720</td>\n",
       "      <td>6.216115e+05</td>\n",
       "      <td>1</td>\n",
       "    </tr>\n",
       "    <tr>\n",
       "      <td>4</td>\n",
       "      <td>565240.5826</td>\n",
       "      <td>554389.5847</td>\n",
       "      <td>434792</td>\n",
       "      <td>684999</td>\n",
       "      <td>1.119630e+06</td>\n",
       "      <td>0</td>\n",
       "    </tr>\n",
       "  </tbody>\n",
       "</table>\n",
       "</div>"
      ],
      "text/plain": [
       "      masculin      feminin  rural_2008  urbain_2008     pop_total  targets\n",
       "0  203836.3422  195877.5045      253856       145858  3.997138e+05        1\n",
       "1  502469.9090  499617.9663      503567       498521  1.002088e+06        1\n",
       "2  232657.6061  223209.9158      141353       314248  4.558675e+05        1\n",
       "3  314084.2888  307527.2184      166892       454720  6.216115e+05        1\n",
       "4  565240.5826  554389.5847      434792       684999  1.119630e+06        0"
      ]
     },
     "execution_count": 45,
     "metadata": {},
     "output_type": "execute_result"
    }
   ],
   "source": [
    "df_with_targets.head()"
   ]
  },
  {
   "cell_type": "code",
   "execution_count": 46,
   "metadata": {},
   "outputs": [
    {
     "data": {
      "text/plain": [
       "(49, 6)"
      ]
     },
     "execution_count": 46,
     "metadata": {},
     "output_type": "execute_result"
    }
   ],
   "source": [
    "df_with_targets.shape"
   ]
  },
  {
   "cell_type": "markdown",
   "metadata": {},
   "source": [
    "# Préparer les inputs pour la regression"
   ]
  },
  {
   "cell_type": "code",
   "execution_count": 48,
   "metadata": {},
   "outputs": [],
   "source": [
    "# Exclure la dernière colone (à inférer)\n",
    "unscaled_inputs = df_with_targets.iloc[:, :-1]"
   ]
  },
  {
   "cell_type": "code",
   "execution_count": 49,
   "metadata": {},
   "outputs": [
    {
     "data": {
      "text/html": [
       "<div>\n",
       "<style scoped>\n",
       "    .dataframe tbody tr th:only-of-type {\n",
       "        vertical-align: middle;\n",
       "    }\n",
       "\n",
       "    .dataframe tbody tr th {\n",
       "        vertical-align: top;\n",
       "    }\n",
       "\n",
       "    .dataframe thead th {\n",
       "        text-align: right;\n",
       "    }\n",
       "</style>\n",
       "<table border=\"1\" class=\"dataframe\">\n",
       "  <thead>\n",
       "    <tr style=\"text-align: right;\">\n",
       "      <th></th>\n",
       "      <th>masculin</th>\n",
       "      <th>feminin</th>\n",
       "      <th>rural_2008</th>\n",
       "      <th>urbain_2008</th>\n",
       "      <th>pop_total</th>\n",
       "    </tr>\n",
       "  </thead>\n",
       "  <tbody>\n",
       "    <tr>\n",
       "      <td>0</td>\n",
       "      <td>203836.3422</td>\n",
       "      <td>195877.5045</td>\n",
       "      <td>253856</td>\n",
       "      <td>145858</td>\n",
       "      <td>3.997138e+05</td>\n",
       "    </tr>\n",
       "    <tr>\n",
       "      <td>1</td>\n",
       "      <td>502469.9090</td>\n",
       "      <td>499617.9663</td>\n",
       "      <td>503567</td>\n",
       "      <td>498521</td>\n",
       "      <td>1.002088e+06</td>\n",
       "    </tr>\n",
       "    <tr>\n",
       "      <td>2</td>\n",
       "      <td>232657.6061</td>\n",
       "      <td>223209.9158</td>\n",
       "      <td>141353</td>\n",
       "      <td>314248</td>\n",
       "      <td>4.558675e+05</td>\n",
       "    </tr>\n",
       "    <tr>\n",
       "      <td>3</td>\n",
       "      <td>314084.2888</td>\n",
       "      <td>307527.2184</td>\n",
       "      <td>166892</td>\n",
       "      <td>454720</td>\n",
       "      <td>6.216115e+05</td>\n",
       "    </tr>\n",
       "    <tr>\n",
       "      <td>4</td>\n",
       "      <td>565240.5826</td>\n",
       "      <td>554389.5847</td>\n",
       "      <td>434792</td>\n",
       "      <td>684999</td>\n",
       "      <td>1.119630e+06</td>\n",
       "    </tr>\n",
       "  </tbody>\n",
       "</table>\n",
       "</div>"
      ],
      "text/plain": [
       "      masculin      feminin  rural_2008  urbain_2008     pop_total\n",
       "0  203836.3422  195877.5045      253856       145858  3.997138e+05\n",
       "1  502469.9090  499617.9663      503567       498521  1.002088e+06\n",
       "2  232657.6061  223209.9158      141353       314248  4.558675e+05\n",
       "3  314084.2888  307527.2184      166892       454720  6.216115e+05\n",
       "4  565240.5826  554389.5847      434792       684999  1.119630e+06"
      ]
     },
     "execution_count": 49,
     "metadata": {},
     "output_type": "execute_result"
    }
   ],
   "source": [
    "unscaled_inputs.head()"
   ]
  },
  {
   "cell_type": "code",
   "execution_count": 53,
   "metadata": {},
   "outputs": [],
   "source": [
    "# Création d'un objet scaler\n",
    "meningite_scaler = StandardScaler()"
   ]
  },
  {
   "cell_type": "code",
   "execution_count": 54,
   "metadata": {},
   "outputs": [
    {
     "data": {
      "text/plain": [
       "StandardScaler(copy=True, with_mean=True, with_std=True)"
      ]
     },
     "execution_count": 54,
     "metadata": {},
     "output_type": "execute_result"
    }
   ],
   "source": [
    "# Paramèter le scaler\n",
    "meningite_scaler.fit(unscaled_inputs)"
   ]
  },
  {
   "cell_type": "code",
   "execution_count": 56,
   "metadata": {},
   "outputs": [],
   "source": [
    "# Uniformiser l'échele des données \n",
    "scaled_inputs = meningite_scaler.transform(unscaled_inputs)"
   ]
  },
  {
   "cell_type": "code",
   "execution_count": 59,
   "metadata": {},
   "outputs": [
    {
     "data": {
      "text/plain": [
       "(49, 5)"
      ]
     },
     "execution_count": 59,
     "metadata": {},
     "output_type": "execute_result"
    }
   ],
   "source": [
    "# Vérification du shape\n",
    "scaled_inputs.shape"
   ]
  },
  {
   "cell_type": "markdown",
   "metadata": {},
   "source": [
    "# Diviser les données - train - test  "
   ]
  },
  {
   "cell_type": "code",
   "execution_count": 72,
   "metadata": {},
   "outputs": [],
   "source": [
    "# division 80%-20%\n",
    "x_train, x_test, y_train, y_test = train_test_split(scaled_inputs, targets, train_size = 0.8)"
   ]
  },
  {
   "cell_type": "code",
   "execution_count": 73,
   "metadata": {},
   "outputs": [
    {
     "name": "stdout",
     "output_type": "stream",
     "text": [
      "(39, 5) (10, 5) (39,) (10,)\n"
     ]
    }
   ],
   "source": [
    "print(x_train.shape, x_test.shape, y_train.shape, y_test.shape)"
   ]
  },
  {
   "cell_type": "code",
   "execution_count": 84,
   "metadata": {},
   "outputs": [],
   "source": [
    "# Objet Regression\n",
    "reg = LogisticRegression(solver='lbfgs')"
   ]
  },
  {
   "cell_type": "code",
   "execution_count": 85,
   "metadata": {},
   "outputs": [
    {
     "data": {
      "text/plain": [
       "LogisticRegression(C=1.0, class_weight=None, dual=False, fit_intercept=True,\n",
       "                   intercept_scaling=1, l1_ratio=None, max_iter=100,\n",
       "                   multi_class='warn', n_jobs=None, penalty='l2',\n",
       "                   random_state=None, solver='lbfgs', tol=0.0001, verbose=0,\n",
       "                   warm_start=False)"
      ]
     },
     "execution_count": 85,
     "metadata": {},
     "output_type": "execute_result"
    }
   ],
   "source": [
    "# Construction du modèle\n",
    "reg.fit(x_train, y_train)"
   ]
  },
  {
   "cell_type": "code",
   "execution_count": 87,
   "metadata": {},
   "outputs": [
    {
     "data": {
      "text/plain": [
       "0.7948717948717948"
      ]
     },
     "execution_count": 87,
     "metadata": {},
     "output_type": "execute_result"
    }
   ],
   "source": [
    "# vérification du score\n",
    "reg.score(x_train, y_train)"
   ]
  },
  {
   "cell_type": "markdown",
   "metadata": {},
   "source": [
    "## Vérifier la précision manuellement"
   ]
  },
  {
   "cell_type": "code",
   "execution_count": 91,
   "metadata": {},
   "outputs": [
    {
     "data": {
      "text/plain": [
       "array([ True,  True, False,  True,  True, False,  True,  True,  True,\n",
       "        True,  True,  True, False,  True,  True,  True, False,  True,\n",
       "        True,  True,  True,  True,  True, False,  True,  True,  True,\n",
       "        True,  True, False,  True,  True,  True, False,  True,  True,\n",
       "       False,  True,  True])"
      ]
     },
     "execution_count": 91,
     "metadata": {},
     "output_type": "execute_result"
    }
   ],
   "source": [
    "# Inférence des résultats\n",
    "model_outputs = reg.predict(x_train)"
   ]
  },
  {
   "cell_type": "code",
   "execution_count": 93,
   "metadata": {},
   "outputs": [
    {
     "data": {
      "text/plain": [
       "0.7948717948717948"
      ]
     },
     "execution_count": 93,
     "metadata": {},
     "output_type": "execute_result"
    }
   ],
   "source": [
    "# vérification de la précision\n",
    "np.sum(model_outputs==y_train) / x_train.shape[0]"
   ]
  },
  {
   "cell_type": "markdown",
   "metadata": {},
   "source": [
    "## intercept et coefs"
   ]
  },
  {
   "cell_type": "code",
   "execution_count": 94,
   "metadata": {},
   "outputs": [
    {
     "data": {
      "text/plain": [
       "array([-0.56181305])"
      ]
     },
     "execution_count": 94,
     "metadata": {},
     "output_type": "execute_result"
    }
   ],
   "source": [
    "reg.intercept_"
   ]
  },
  {
   "cell_type": "code",
   "execution_count": 96,
   "metadata": {},
   "outputs": [
    {
     "data": {
      "text/plain": [
       "array([[-0.63614076, -0.64333024, -0.6491785 , -0.63234152, -0.63969563]])"
      ]
     },
     "execution_count": 96,
     "metadata": {},
     "output_type": "execute_result"
    }
   ],
   "source": [
    "reg.coef_"
   ]
  },
  {
   "cell_type": "code",
   "execution_count": 101,
   "metadata": {},
   "outputs": [],
   "source": [
    "colonnes = unscaled_inputs.columns.values"
   ]
  },
  {
   "cell_type": "code",
   "execution_count": 103,
   "metadata": {},
   "outputs": [],
   "source": [
    "# Création d'un nouveau DF pour stocker le modèle\n",
    "summary_table = pd.DataFrame(columns = ['colonnes'], data = colonnes)"
   ]
  },
  {
   "cell_type": "code",
   "execution_count": 105,
   "metadata": {},
   "outputs": [],
   "source": [
    "# Insertion des coeficients\n",
    "summary_table['Coefs'] = np.transpose(reg.coef_)"
   ]
  },
  {
   "cell_type": "code",
   "execution_count": 107,
   "metadata": {},
   "outputs": [
    {
     "data": {
      "text/html": [
       "<div>\n",
       "<style scoped>\n",
       "    .dataframe tbody tr th:only-of-type {\n",
       "        vertical-align: middle;\n",
       "    }\n",
       "\n",
       "    .dataframe tbody tr th {\n",
       "        vertical-align: top;\n",
       "    }\n",
       "\n",
       "    .dataframe thead th {\n",
       "        text-align: right;\n",
       "    }\n",
       "</style>\n",
       "<table border=\"1\" class=\"dataframe\">\n",
       "  <thead>\n",
       "    <tr style=\"text-align: right;\">\n",
       "      <th></th>\n",
       "      <th>colonnes</th>\n",
       "      <th>Coefs</th>\n",
       "    </tr>\n",
       "  </thead>\n",
       "  <tbody>\n",
       "    <tr>\n",
       "      <td>0</td>\n",
       "      <td>masculin</td>\n",
       "      <td>-0.636141</td>\n",
       "    </tr>\n",
       "    <tr>\n",
       "      <td>1</td>\n",
       "      <td>feminin</td>\n",
       "      <td>-0.643330</td>\n",
       "    </tr>\n",
       "    <tr>\n",
       "      <td>2</td>\n",
       "      <td>rural_2008</td>\n",
       "      <td>-0.649178</td>\n",
       "    </tr>\n",
       "    <tr>\n",
       "      <td>3</td>\n",
       "      <td>urbain_2008</td>\n",
       "      <td>-0.632342</td>\n",
       "    </tr>\n",
       "    <tr>\n",
       "      <td>4</td>\n",
       "      <td>pop_total</td>\n",
       "      <td>-0.639696</td>\n",
       "    </tr>\n",
       "  </tbody>\n",
       "</table>\n",
       "</div>"
      ],
      "text/plain": [
       "      colonnes     Coefs\n",
       "0     masculin -0.636141\n",
       "1      feminin -0.643330\n",
       "2   rural_2008 -0.649178\n",
       "3  urbain_2008 -0.632342\n",
       "4    pop_total -0.639696"
      ]
     },
     "execution_count": 107,
     "metadata": {},
     "output_type": "execute_result"
    }
   ],
   "source": [
    "summary_table"
   ]
  },
  {
   "cell_type": "code",
   "execution_count": 108,
   "metadata": {},
   "outputs": [],
   "source": [
    "summary_table.index = summary_table.index + 1"
   ]
  },
  {
   "cell_type": "code",
   "execution_count": 109,
   "metadata": {},
   "outputs": [],
   "source": [
    "# Ajout de intercept (biais) à la DF\n",
    "summary_table.loc[0] = ['Intercept', reg.intercept_[0]]"
   ]
  },
  {
   "cell_type": "code",
   "execution_count": 110,
   "metadata": {},
   "outputs": [],
   "source": [
    "summary_table = summary_table.sort_index()"
   ]
  },
  {
   "cell_type": "code",
   "execution_count": 111,
   "metadata": {},
   "outputs": [
    {
     "data": {
      "text/html": [
       "<div>\n",
       "<style scoped>\n",
       "    .dataframe tbody tr th:only-of-type {\n",
       "        vertical-align: middle;\n",
       "    }\n",
       "\n",
       "    .dataframe tbody tr th {\n",
       "        vertical-align: top;\n",
       "    }\n",
       "\n",
       "    .dataframe thead th {\n",
       "        text-align: right;\n",
       "    }\n",
       "</style>\n",
       "<table border=\"1\" class=\"dataframe\">\n",
       "  <thead>\n",
       "    <tr style=\"text-align: right;\">\n",
       "      <th></th>\n",
       "      <th>colonnes</th>\n",
       "      <th>Coefs</th>\n",
       "    </tr>\n",
       "  </thead>\n",
       "  <tbody>\n",
       "    <tr>\n",
       "      <td>0</td>\n",
       "      <td>Intercept</td>\n",
       "      <td>-0.561813</td>\n",
       "    </tr>\n",
       "    <tr>\n",
       "      <td>1</td>\n",
       "      <td>masculin</td>\n",
       "      <td>-0.636141</td>\n",
       "    </tr>\n",
       "    <tr>\n",
       "      <td>2</td>\n",
       "      <td>feminin</td>\n",
       "      <td>-0.643330</td>\n",
       "    </tr>\n",
       "    <tr>\n",
       "      <td>3</td>\n",
       "      <td>rural_2008</td>\n",
       "      <td>-0.649178</td>\n",
       "    </tr>\n",
       "    <tr>\n",
       "      <td>4</td>\n",
       "      <td>urbain_2008</td>\n",
       "      <td>-0.632342</td>\n",
       "    </tr>\n",
       "    <tr>\n",
       "      <td>5</td>\n",
       "      <td>pop_total</td>\n",
       "      <td>-0.639696</td>\n",
       "    </tr>\n",
       "  </tbody>\n",
       "</table>\n",
       "</div>"
      ],
      "text/plain": [
       "      colonnes     Coefs\n",
       "0    Intercept -0.561813\n",
       "1     masculin -0.636141\n",
       "2      feminin -0.643330\n",
       "3   rural_2008 -0.649178\n",
       "4  urbain_2008 -0.632342\n",
       "5    pop_total -0.639696"
      ]
     },
     "execution_count": 111,
     "metadata": {},
     "output_type": "execute_result"
    }
   ],
   "source": [
    "summary_table"
   ]
  },
  {
   "cell_type": "markdown",
   "metadata": {},
   "source": [
    "## Interpretation des coeficients"
   ]
  },
  {
   "cell_type": "code",
   "execution_count": 113,
   "metadata": {},
   "outputs": [],
   "source": [
    "# Ajout d'un champ Odds\n",
    "summary_table['Odds_ratio'] = np.exp(summary_table.Coefs)"
   ]
  },
  {
   "cell_type": "code",
   "execution_count": 116,
   "metadata": {},
   "outputs": [
    {
     "data": {
      "text/html": [
       "<div>\n",
       "<style scoped>\n",
       "    .dataframe tbody tr th:only-of-type {\n",
       "        vertical-align: middle;\n",
       "    }\n",
       "\n",
       "    .dataframe tbody tr th {\n",
       "        vertical-align: top;\n",
       "    }\n",
       "\n",
       "    .dataframe thead th {\n",
       "        text-align: right;\n",
       "    }\n",
       "</style>\n",
       "<table border=\"1\" class=\"dataframe\">\n",
       "  <thead>\n",
       "    <tr style=\"text-align: right;\">\n",
       "      <th></th>\n",
       "      <th>colonnes</th>\n",
       "      <th>Coefs</th>\n",
       "      <th>Odds_ratio</th>\n",
       "    </tr>\n",
       "  </thead>\n",
       "  <tbody>\n",
       "    <tr>\n",
       "      <td>0</td>\n",
       "      <td>Intercept</td>\n",
       "      <td>-0.561813</td>\n",
       "      <td>0.570174</td>\n",
       "    </tr>\n",
       "    <tr>\n",
       "      <td>4</td>\n",
       "      <td>urbain_2008</td>\n",
       "      <td>-0.632342</td>\n",
       "      <td>0.531346</td>\n",
       "    </tr>\n",
       "    <tr>\n",
       "      <td>1</td>\n",
       "      <td>masculin</td>\n",
       "      <td>-0.636141</td>\n",
       "      <td>0.529331</td>\n",
       "    </tr>\n",
       "    <tr>\n",
       "      <td>5</td>\n",
       "      <td>pop_total</td>\n",
       "      <td>-0.639696</td>\n",
       "      <td>0.527453</td>\n",
       "    </tr>\n",
       "    <tr>\n",
       "      <td>2</td>\n",
       "      <td>feminin</td>\n",
       "      <td>-0.643330</td>\n",
       "      <td>0.525539</td>\n",
       "    </tr>\n",
       "    <tr>\n",
       "      <td>3</td>\n",
       "      <td>rural_2008</td>\n",
       "      <td>-0.649178</td>\n",
       "      <td>0.522475</td>\n",
       "    </tr>\n",
       "  </tbody>\n",
       "</table>\n",
       "</div>"
      ],
      "text/plain": [
       "      colonnes     Coefs  Odds_ratio\n",
       "0    Intercept -0.561813    0.570174\n",
       "4  urbain_2008 -0.632342    0.531346\n",
       "1     masculin -0.636141    0.529331\n",
       "5    pop_total -0.639696    0.527453\n",
       "2      feminin -0.643330    0.525539\n",
       "3   rural_2008 -0.649178    0.522475"
      ]
     },
     "execution_count": 116,
     "metadata": {},
     "output_type": "execute_result"
    }
   ],
   "source": [
    "# Trie des Odds afin de détecter les coefficients les plus influents\n",
    "# La variable est inutile Si les coefficents sont proche de 0 ou les Odds proche de 1 \n",
    "summary_table.sort_values('Odds_ratio', ascending = False)"
   ]
  },
  {
   "cell_type": "markdown",
   "metadata": {},
   "source": [
    "## Tester le modèle"
   ]
  },
  {
   "cell_type": "code",
   "execution_count": 117,
   "metadata": {},
   "outputs": [
    {
     "data": {
      "text/plain": [
       "0.6"
      ]
     },
     "execution_count": 117,
     "metadata": {},
     "output_type": "execute_result"
    }
   ],
   "source": [
    "# Le score sur les données test est toujour inférieur que celui des train data\n",
    "# Si la différence est importante (10-20%) le modèle overfit\n",
    "reg.score(x_test, y_test)"
   ]
  },
  {
   "cell_type": "code",
   "execution_count": 118,
   "metadata": {},
   "outputs": [
    {
     "data": {
      "text/plain": [
       "0.7948717948717948"
      ]
     },
     "execution_count": 118,
     "metadata": {},
     "output_type": "execute_result"
    }
   ],
   "source": [
    "# Overfitting apparament !!\n",
    "reg.score(x_train, y_train)"
   ]
  },
  {
   "cell_type": "code",
   "execution_count": 119,
   "metadata": {},
   "outputs": [],
   "source": [
    "predict_proba = reg.predict_proba(x_test)"
   ]
  },
  {
   "cell_type": "code",
   "execution_count": 120,
   "metadata": {},
   "outputs": [
    {
     "data": {
      "text/plain": [
       "array([[0.46146791, 0.53853209],\n",
       "       [0.5267972 , 0.4732028 ],\n",
       "       [0.53180042, 0.46819958],\n",
       "       [0.54736196, 0.45263804],\n",
       "       [0.54037085, 0.45962915],\n",
       "       [0.56754381, 0.43245619],\n",
       "       [0.54180453, 0.45819547],\n",
       "       [0.47916568, 0.52083432],\n",
       "       [0.51413726, 0.48586274],\n",
       "       [0.44985098, 0.55014902]])"
      ]
     },
     "execution_count": 120,
     "metadata": {},
     "output_type": "execute_result"
    }
   ],
   "source": [
    "predict_proba"
   ]
  },
  {
   "cell_type": "code",
   "execution_count": 121,
   "metadata": {},
   "outputs": [
    {
     "data": {
      "text/plain": [
       "(10, 2)"
      ]
     },
     "execution_count": 121,
     "metadata": {},
     "output_type": "execute_result"
    }
   ],
   "source": [
    "predict_proba.shape"
   ]
  },
  {
   "cell_type": "code",
   "execution_count": 122,
   "metadata": {},
   "outputs": [
    {
     "data": {
      "text/plain": [
       "array([0.53853209, 0.4732028 , 0.46819958, 0.45263804, 0.45962915,\n",
       "       0.43245619, 0.45819547, 0.52083432, 0.48586274, 0.55014902])"
      ]
     },
     "execution_count": 122,
     "metadata": {},
     "output_type": "execute_result"
    }
   ],
   "source": [
    "predict_proba[:, 1]"
   ]
  },
  {
   "cell_type": "markdown",
   "metadata": {},
   "source": [
    "# Sauvegarde du modèle et du scaler"
   ]
  },
  {
   "cell_type": "code",
   "execution_count": 126,
   "metadata": {},
   "outputs": [],
   "source": [
    "with open('model', 'wb') as file:\n",
    "    pickle.dump(reg, file)"
   ]
  },
  {
   "cell_type": "code",
   "execution_count": 127,
   "metadata": {},
   "outputs": [],
   "source": [
    "with open('scaler', 'wb') as file:\n",
    "    pickle.dump(meningite_scaler, file)"
   ]
  },
  {
   "cell_type": "code",
   "execution_count": null,
   "metadata": {},
   "outputs": [],
   "source": []
  }
 ],
 "metadata": {
  "kernelspec": {
   "display_name": "Python 3",
   "language": "python",
   "name": "python3"
  },
  "language_info": {
   "codemirror_mode": {
    "name": "ipython",
    "version": 3
   },
   "file_extension": ".py",
   "mimetype": "text/x-python",
   "name": "python",
   "nbconvert_exporter": "python",
   "pygments_lexer": "ipython3",
   "version": "3.7.3"
  }
 },
 "nbformat": 4,
 "nbformat_minor": 2
}
